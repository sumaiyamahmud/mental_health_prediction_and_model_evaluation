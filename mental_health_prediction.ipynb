{
 "cells": [
  {
   "cell_type": "markdown",
   "id": "1afe12bb",
   "metadata": {},
   "source": [
    "<div style=\"text-align: center; font-size: 20px; color: #003366; font-weight: bold; background-color: #e0f7fa; padding: 10px;\">\n",
    "    Predicting Employee Treatment-Seeking Behavior for Mental Health\n",
    "</div>\n"
   ]
  },
  {
   "cell_type": "markdown",
   "id": "2264299a",
   "metadata": {},
   "source": [
    "![Counselling](counsel.png)"
   ]
  },
  {
   "cell_type": "markdown",
   "id": "f9b8352a",
   "metadata": {},
   "source": [
    "<div style=\"left-align: center; font-size: 20px; color: #003366; font-weight: bold; background-color: #e0f7fa; padding: 10px;\">\n",
    "    About the Project\n",
    "</div>\n",
    "\n",
    "This project utilizes a dataset from a 2014 survey that measures attitudes towards mental health and the frequency of mental health disorders in the tech workplace. We analyze various machine learning models to identify key features influencing employees' decisions to seek treatment.    \n",
    "\n",
    "We begin by evaluating several machine learning models, including Random Forest, Decision Tree, Support Vector Classification (SVC), Logistic Regression, and XGBoost, using default parameters to assess their initial performance. Subsequently, we optimize these models with GridSearchCV to find the best parameters and re-evaluate their performance. This comprehensive approach aims to uncover key predictors of treatment-seeking behavior and enhance the accuracy of our predictions.\n"
   ]
  },
  {
   "cell_type": "markdown",
   "id": "a3d51651",
   "metadata": {},
   "source": [
    "<div style=\"left-align: center; font-size: 20px; color: #003366; font-weight: bold; background-color: #e0f7fa; padding: 10px;\">\n",
    "    Understanding the Dataset\n",
    "</div>\n",
    "\n",
    "- **Timestamp**\n",
    "- **Age**\n",
    "- **Gender**\n",
    "- **Country**\n",
    "- **state**: Which state in the United states do you live in?\n",
    "- **self_employed**: Are you self-employed?\n",
    "- **family_history**: Do you have a family history of mental illness?\n",
    "- **treatment**: Have you sought treatment for a mental health condition?\n",
    "- **work_interfere**: If you have a mental health condition, do you feel that it interferes with your work?\n",
    "- **no_employees**: How many employees does your company have?\n",
    "- **remote_work**: Do you work remotely at least 50% of the time?\n",
    "- **tech_company**: Is your employer primarily a tech company/organization?\n",
    "- **benefits**: Does your employer provide mental health benefits?\n",
    "- **care_options**: Do you know the options for mental health care your employer provides?\n",
    "- **wellness_program**: Has your employer ever discussed mental health as part of an employee wellness program?\n",
    "- **seek_help**: Does your employer provide resources to learn more about mental health issues and how to seek help?\n",
    "- **anonymity**: Is your anonymity protected if you choose to take advantage of mental health or substance abuse treatment resources?\n",
    "- **leave**: How easy is it for you to take medical leave for a mental health condition?\n",
    "- **mentalhealthconsequence**: Do you think that discussing a mental health issue with your employer would have negative consequences?\n",
    "- **physhealthconsequence**: Do you think that discussing a physical health issue with your employer would have negative consequences?\n",
    "- **coworkers**: Would you be willing to discuss a mental health issue with your coworkers?\n",
    "- **physhealthinterview**: Would you bring up a physical health issue with a potential employer in an interview?\n",
    "- **mentalvsphysical**: Do you feel that your employer takes mental health as seriously as physical health?\n",
    "- **obs_consequence**: Have you heard of or observed negative consequences for coworkers with mental health conditions in your workplace?\n",
    "- **comments**: Any additional notes or comments\n"
   ]
  },
  {
   "cell_type": "code",
   "execution_count": 1,
   "id": "c52445ba",
   "metadata": {},
   "outputs": [
    {
     "name": "stderr",
     "output_type": "stream",
     "text": [
      "C:\\Users\\sumai\\anaconda3\\lib\\site-packages\\scipy\\__init__.py:155: UserWarning: A NumPy version >=1.18.5 and <1.25.0 is required for this version of SciPy (detected version 1.26.4\n",
      "  warnings.warn(f\"A NumPy version >={np_minversion} and <{np_maxversion}\"\n"
     ]
    }
   ],
   "source": [
    "import pandas as pd\n",
    "import seaborn as sns\n",
    "from matplotlib import pyplot as plt\n",
    "from sklearn.preprocessing import OneHotEncoder, LabelEncoder, MinMaxScaler\n",
    "from sklearn.model_selection import train_test_split\n",
    "\n",
    "from sklearn.tree import DecisionTreeClassifier\n",
    "from sklearn.ensemble import RandomForestClassifier\n",
    "from sklearn.linear_model import LogisticRegression\n",
    "from sklearn.svm import SVC\n",
    "from sklearn.cluster import KMeans\n",
    "\n",
    "from sklearn.metrics import accuracy_score, precision_score, recall_score, f1_score, roc_auc_score\n",
    "from sklearn.model_selection import cross_val_score"
   ]
  },
  {
   "cell_type": "code",
   "execution_count": 2,
   "id": "e847992f",
   "metadata": {},
   "outputs": [],
   "source": [
    "df = pd.read_csv(\"survey.csv\")"
   ]
  },
  {
   "cell_type": "code",
   "execution_count": 3,
   "id": "f47cbcf6",
   "metadata": {
    "scrolled": true
   },
   "outputs": [
    {
     "data": {
      "text/html": [
       "<div>\n",
       "<style scoped>\n",
       "    .dataframe tbody tr th:only-of-type {\n",
       "        vertical-align: middle;\n",
       "    }\n",
       "\n",
       "    .dataframe tbody tr th {\n",
       "        vertical-align: top;\n",
       "    }\n",
       "\n",
       "    .dataframe thead th {\n",
       "        text-align: right;\n",
       "    }\n",
       "</style>\n",
       "<table border=\"1\" class=\"dataframe\">\n",
       "  <thead>\n",
       "    <tr style=\"text-align: right;\">\n",
       "      <th></th>\n",
       "      <th>Timestamp</th>\n",
       "      <th>Age</th>\n",
       "      <th>Gender</th>\n",
       "      <th>Country</th>\n",
       "      <th>state</th>\n",
       "      <th>self_employed</th>\n",
       "      <th>family_history</th>\n",
       "      <th>treatment</th>\n",
       "      <th>work_interfere</th>\n",
       "      <th>no_employees</th>\n",
       "      <th>...</th>\n",
       "      <th>leave</th>\n",
       "      <th>mental_health_consequence</th>\n",
       "      <th>phys_health_consequence</th>\n",
       "      <th>coworkers</th>\n",
       "      <th>supervisor</th>\n",
       "      <th>mental_health_interview</th>\n",
       "      <th>phys_health_interview</th>\n",
       "      <th>mental_vs_physical</th>\n",
       "      <th>obs_consequence</th>\n",
       "      <th>comments</th>\n",
       "    </tr>\n",
       "  </thead>\n",
       "  <tbody>\n",
       "    <tr>\n",
       "      <th>0</th>\n",
       "      <td>8/27/2014 11:29</td>\n",
       "      <td>37</td>\n",
       "      <td>Female</td>\n",
       "      <td>United States</td>\n",
       "      <td>IL</td>\n",
       "      <td>NaN</td>\n",
       "      <td>No</td>\n",
       "      <td>Yes</td>\n",
       "      <td>Often</td>\n",
       "      <td>6-25</td>\n",
       "      <td>...</td>\n",
       "      <td>Somewhat easy</td>\n",
       "      <td>No</td>\n",
       "      <td>No</td>\n",
       "      <td>Some of them</td>\n",
       "      <td>Yes</td>\n",
       "      <td>No</td>\n",
       "      <td>Maybe</td>\n",
       "      <td>Yes</td>\n",
       "      <td>No</td>\n",
       "      <td>NaN</td>\n",
       "    </tr>\n",
       "    <tr>\n",
       "      <th>1</th>\n",
       "      <td>8/27/2014 11:29</td>\n",
       "      <td>44</td>\n",
       "      <td>M</td>\n",
       "      <td>United States</td>\n",
       "      <td>IN</td>\n",
       "      <td>NaN</td>\n",
       "      <td>No</td>\n",
       "      <td>No</td>\n",
       "      <td>Rarely</td>\n",
       "      <td>More than 1000</td>\n",
       "      <td>...</td>\n",
       "      <td>Don't know</td>\n",
       "      <td>Maybe</td>\n",
       "      <td>No</td>\n",
       "      <td>No</td>\n",
       "      <td>No</td>\n",
       "      <td>No</td>\n",
       "      <td>No</td>\n",
       "      <td>Don't know</td>\n",
       "      <td>No</td>\n",
       "      <td>NaN</td>\n",
       "    </tr>\n",
       "    <tr>\n",
       "      <th>2</th>\n",
       "      <td>8/27/2014 11:29</td>\n",
       "      <td>32</td>\n",
       "      <td>Male</td>\n",
       "      <td>Canada</td>\n",
       "      <td>NaN</td>\n",
       "      <td>NaN</td>\n",
       "      <td>No</td>\n",
       "      <td>No</td>\n",
       "      <td>Rarely</td>\n",
       "      <td>6-25</td>\n",
       "      <td>...</td>\n",
       "      <td>Somewhat difficult</td>\n",
       "      <td>No</td>\n",
       "      <td>No</td>\n",
       "      <td>Yes</td>\n",
       "      <td>Yes</td>\n",
       "      <td>Yes</td>\n",
       "      <td>Yes</td>\n",
       "      <td>No</td>\n",
       "      <td>No</td>\n",
       "      <td>NaN</td>\n",
       "    </tr>\n",
       "    <tr>\n",
       "      <th>3</th>\n",
       "      <td>8/27/2014 11:29</td>\n",
       "      <td>31</td>\n",
       "      <td>Male</td>\n",
       "      <td>United Kingdom</td>\n",
       "      <td>NaN</td>\n",
       "      <td>NaN</td>\n",
       "      <td>Yes</td>\n",
       "      <td>Yes</td>\n",
       "      <td>Often</td>\n",
       "      <td>26-100</td>\n",
       "      <td>...</td>\n",
       "      <td>Somewhat difficult</td>\n",
       "      <td>Yes</td>\n",
       "      <td>Yes</td>\n",
       "      <td>Some of them</td>\n",
       "      <td>No</td>\n",
       "      <td>Maybe</td>\n",
       "      <td>Maybe</td>\n",
       "      <td>No</td>\n",
       "      <td>Yes</td>\n",
       "      <td>NaN</td>\n",
       "    </tr>\n",
       "    <tr>\n",
       "      <th>4</th>\n",
       "      <td>8/27/2014 11:30</td>\n",
       "      <td>31</td>\n",
       "      <td>Male</td>\n",
       "      <td>United States</td>\n",
       "      <td>TX</td>\n",
       "      <td>NaN</td>\n",
       "      <td>No</td>\n",
       "      <td>No</td>\n",
       "      <td>Never</td>\n",
       "      <td>100-500</td>\n",
       "      <td>...</td>\n",
       "      <td>Don't know</td>\n",
       "      <td>No</td>\n",
       "      <td>No</td>\n",
       "      <td>Some of them</td>\n",
       "      <td>Yes</td>\n",
       "      <td>Yes</td>\n",
       "      <td>Yes</td>\n",
       "      <td>Don't know</td>\n",
       "      <td>No</td>\n",
       "      <td>NaN</td>\n",
       "    </tr>\n",
       "  </tbody>\n",
       "</table>\n",
       "<p>5 rows × 27 columns</p>\n",
       "</div>"
      ],
      "text/plain": [
       "         Timestamp  Age  Gender         Country state self_employed  \\\n",
       "0  8/27/2014 11:29   37  Female   United States    IL           NaN   \n",
       "1  8/27/2014 11:29   44       M   United States    IN           NaN   \n",
       "2  8/27/2014 11:29   32    Male          Canada   NaN           NaN   \n",
       "3  8/27/2014 11:29   31    Male  United Kingdom   NaN           NaN   \n",
       "4  8/27/2014 11:30   31    Male   United States    TX           NaN   \n",
       "\n",
       "  family_history treatment work_interfere    no_employees  ...  \\\n",
       "0             No       Yes          Often            6-25  ...   \n",
       "1             No        No         Rarely  More than 1000  ...   \n",
       "2             No        No         Rarely            6-25  ...   \n",
       "3            Yes       Yes          Often          26-100  ...   \n",
       "4             No        No          Never         100-500  ...   \n",
       "\n",
       "                leave mental_health_consequence phys_health_consequence  \\\n",
       "0       Somewhat easy                        No                      No   \n",
       "1          Don't know                     Maybe                      No   \n",
       "2  Somewhat difficult                        No                      No   \n",
       "3  Somewhat difficult                       Yes                     Yes   \n",
       "4          Don't know                        No                      No   \n",
       "\n",
       "      coworkers supervisor mental_health_interview phys_health_interview  \\\n",
       "0  Some of them        Yes                      No                 Maybe   \n",
       "1            No         No                      No                    No   \n",
       "2           Yes        Yes                     Yes                   Yes   \n",
       "3  Some of them         No                   Maybe                 Maybe   \n",
       "4  Some of them        Yes                     Yes                   Yes   \n",
       "\n",
       "  mental_vs_physical obs_consequence comments  \n",
       "0                Yes              No      NaN  \n",
       "1         Don't know              No      NaN  \n",
       "2                 No              No      NaN  \n",
       "3                 No             Yes      NaN  \n",
       "4         Don't know              No      NaN  \n",
       "\n",
       "[5 rows x 27 columns]"
      ]
     },
     "execution_count": 3,
     "metadata": {},
     "output_type": "execute_result"
    }
   ],
   "source": [
    "df.head()"
   ]
  },
  {
   "cell_type": "code",
   "execution_count": 4,
   "id": "a98f9cd4",
   "metadata": {},
   "outputs": [
    {
     "name": "stdout",
     "output_type": "stream",
     "text": [
      "<class 'pandas.core.frame.DataFrame'>\n",
      "RangeIndex: 1259 entries, 0 to 1258\n",
      "Data columns (total 27 columns):\n",
      " #   Column                     Non-Null Count  Dtype \n",
      "---  ------                     --------------  ----- \n",
      " 0   Timestamp                  1259 non-null   object\n",
      " 1   Age                        1259 non-null   int64 \n",
      " 2   Gender                     1259 non-null   object\n",
      " 3   Country                    1259 non-null   object\n",
      " 4   state                      744 non-null    object\n",
      " 5   self_employed              1241 non-null   object\n",
      " 6   family_history             1259 non-null   object\n",
      " 7   treatment                  1259 non-null   object\n",
      " 8   work_interfere             995 non-null    object\n",
      " 9   no_employees               1259 non-null   object\n",
      " 10  remote_work                1259 non-null   object\n",
      " 11  tech_company               1259 non-null   object\n",
      " 12  benefits                   1259 non-null   object\n",
      " 13  care_options               1259 non-null   object\n",
      " 14  wellness_program           1259 non-null   object\n",
      " 15  seek_help                  1259 non-null   object\n",
      " 16  anonymity                  1259 non-null   object\n",
      " 17  leave                      1259 non-null   object\n",
      " 18  mental_health_consequence  1259 non-null   object\n",
      " 19  phys_health_consequence    1259 non-null   object\n",
      " 20  coworkers                  1259 non-null   object\n",
      " 21  supervisor                 1259 non-null   object\n",
      " 22  mental_health_interview    1259 non-null   object\n",
      " 23  phys_health_interview      1259 non-null   object\n",
      " 24  mental_vs_physical         1259 non-null   object\n",
      " 25  obs_consequence            1259 non-null   object\n",
      " 26  comments                   164 non-null    object\n",
      "dtypes: int64(1), object(26)\n",
      "memory usage: 265.7+ KB\n"
     ]
    }
   ],
   "source": [
    "df.info()"
   ]
  },
  {
   "cell_type": "code",
   "execution_count": 5,
   "id": "d80cc386",
   "metadata": {},
   "outputs": [
    {
     "data": {
      "text/plain": [
       "United States             751\n",
       "United Kingdom            185\n",
       "Canada                     72\n",
       "Germany                    45\n",
       "Ireland                    27\n",
       "Netherlands                27\n",
       "Australia                  21\n",
       "France                     13\n",
       "India                      10\n",
       "New Zealand                 8\n",
       "Poland                      7\n",
       "Switzerland                 7\n",
       "Sweden                      7\n",
       "Italy                       7\n",
       "South Africa                6\n",
       "Belgium                     6\n",
       "Brazil                      6\n",
       "Israel                      5\n",
       "Singapore                   4\n",
       "Bulgaria                    4\n",
       "Austria                     3\n",
       "Finland                     3\n",
       "Mexico                      3\n",
       "Russia                      3\n",
       "Denmark                     2\n",
       "Greece                      2\n",
       "Colombia                    2\n",
       "Croatia                     2\n",
       "Portugal                    2\n",
       "Moldova                     1\n",
       "Georgia                     1\n",
       "Bahamas, The                1\n",
       "China                       1\n",
       "Thailand                    1\n",
       "Czech Republic              1\n",
       "Norway                      1\n",
       "Romania                     1\n",
       "Nigeria                     1\n",
       "Japan                       1\n",
       "Hungary                     1\n",
       "Bosnia and Herzegovina      1\n",
       "Uruguay                     1\n",
       "Spain                       1\n",
       "Zimbabwe                    1\n",
       "Latvia                      1\n",
       "Costa Rica                  1\n",
       "Slovenia                    1\n",
       "Philippines                 1\n",
       "Name: Country, dtype: int64"
      ]
     },
     "execution_count": 5,
     "metadata": {},
     "output_type": "execute_result"
    }
   ],
   "source": [
    "#No. of respondents from each country\n",
    "df['Country'].value_counts()"
   ]
  },
  {
   "cell_type": "code",
   "execution_count": 128,
   "id": "b5f0368b",
   "metadata": {},
   "outputs": [
    {
     "data": {
      "image/png": "[encoded data removed]",
      "text/plain": [
       "<Figure size 1000x600 with 1 Axes>"
      ]
     },
     "metadata": {},
     "output_type": "display_data"
    }
   ],
   "source": [
    "import matplotlib.pyplot as plt\n",
    "\n",
    "# Data\n",
    "labels = ['United States', 'United Kingdom', 'Canada', 'Germany', 'Ireland', 'Netherlands', \n",
    "          'Australia', 'France', 'India', 'New Zealand']\n",
    "sizes = [751, 185, 72, 45, 27, 27, 21, 13, 10, 8]\n",
    "\n",
    "# Explode the slice for 'United States'\n",
    "explode = (0.2, 0, 0, 0, 0, 0, 0, 0, 0, 0)  # Only 'United States' slice is pulled out\n",
    "\n",
    "# Create the pie chart\n",
    "plt.figure(figsize=(10, 6))\n",
    "\n",
    "# Plot pie chart\n",
    "plt.pie(sizes, startangle=140, explode=explode, labels=None, autopct=None, pctdistance=0.85)\n",
    "\n",
    "# Add a left-aligned title\n",
    "plt.title('Distribution of Countries', loc='left', pad=20)\n",
    "\n",
    "# Add a legend slightly to the right\n",
    "plt.legend(labels, loc='center left', bbox_to_anchor=(1.2, 0.5), title='Countries')  # Adjust x value in bbox_to_anchor\n",
    "\n",
    "# Adjust layout to make room for the legend\n",
    "plt.tight_layout()\n",
    "\n",
    "# Display the chart\n",
    "plt.show()\n"
   ]
  },
  {
   "cell_type": "code",
   "execution_count": 7,
   "id": "d0648f4f",
   "metadata": {},
   "outputs": [
    {
     "name": "stdout",
     "output_type": "stream",
     "text": [
      "                           Total   Percent\n",
      "comments                    1095  0.869738\n",
      "state                        515  0.409055\n",
      "work_interfere               264  0.209690\n",
      "self_employed                 18  0.014297\n",
      "seek_help                      0  0.000000\n",
      "obs_consequence                0  0.000000\n",
      "mental_vs_physical             0  0.000000\n",
      "phys_health_interview          0  0.000000\n",
      "mental_health_interview        0  0.000000\n",
      "supervisor                     0  0.000000\n",
      "coworkers                      0  0.000000\n",
      "phys_health_consequence        0  0.000000\n",
      "mental_health_consequence      0  0.000000\n",
      "leave                          0  0.000000\n",
      "anonymity                      0  0.000000\n",
      "Timestamp                      0  0.000000\n",
      "wellness_program               0  0.000000\n",
      "Age                            0  0.000000\n",
      "benefits                       0  0.000000\n",
      "tech_company                   0  0.000000\n",
      "remote_work                    0  0.000000\n",
      "no_employees                   0  0.000000\n",
      "treatment                      0  0.000000\n",
      "family_history                 0  0.000000\n",
      "Country                        0  0.000000\n",
      "Gender                         0  0.000000\n",
      "care_options                   0  0.000000\n"
     ]
    }
   ],
   "source": [
    "#Check percentage of missing values in each column\n",
    "total = df.isnull().sum().sort_values(ascending=False)\n",
    "percent = (df.isnull().sum() / len(df)).sort_values(ascending=False)\n",
    "missing_data = pd.concat([total, percent], axis=1, keys=['Total', 'Percent'])\n",
    "missing_data.head(20)\n",
    "print(missing_data)"
   ]
  },
  {
   "cell_type": "markdown",
   "id": "59beb269",
   "metadata": {},
   "source": [
    "<div style=\"left-align: center; font-size: 20px; color: #003366; font-weight: bold; background-color: #e0f7fa; padding: 10px;\">\n",
    "    Data Preprocessing\n",
    "</div>"
   ]
  },
  {
   "cell_type": "markdown",
   "id": "33fabdac",
   "metadata": {},
   "source": [
    "<div style=\"left-align: center; font-size: 15px; color: #003366; font-weight: bold; background-color: #f0f0f0; padding: 10px;\">\n",
    "    Feature Elimination\n",
    "</div>\n",
    "\n",
    "The dataset includes various countries, with the United States contributing 60% of the data. This dominance could cause the model to overemphasize the Country variable, potentially skewing the training process. To address this, the *Country* column will be removed from the dataset.  \n",
    "\n",
    "The *comments* and *state* columns have 86% and 40% null values, respectively, which is significant. Therefore, these columns will be dropped. \n",
    "\n",
    "Additionally, the *Timestamp* column will be removed as it is irrelevant to our case study."
   ]
  },
  {
   "cell_type": "code",
   "execution_count": 8,
   "id": "bb2166ad",
   "metadata": {},
   "outputs": [],
   "source": [
    "df.drop(columns=['state','comments','Timestamp', 'Country'], inplace=True)"
   ]
  },
  {
   "cell_type": "code",
   "execution_count": 9,
   "id": "4c558cf3",
   "metadata": {},
   "outputs": [
    {
     "data": {
      "text/plain": [
       "array([         37,          44,          32,          31,          33,\n",
       "                35,          39,          42,          23,          29,\n",
       "                36,          27,          46,          41,          34,\n",
       "                30,          40,          38,          50,          24,\n",
       "                18,          28,          26,          22,          19,\n",
       "                25,          45,          21,         -29,          43,\n",
       "                56,          60,          54,         329,          55,\n",
       "       99999999999,          48,          20,          57,          58,\n",
       "                47,          62,          51,          65,          49,\n",
       "             -1726,           5,          53,          61,           8,\n",
       "                11,          -1,          72], dtype=int64)"
      ]
     },
     "execution_count": 9,
     "metadata": {},
     "output_type": "execute_result"
    }
   ],
   "source": [
    "df['Age'].unique()"
   ]
  },
  {
   "cell_type": "markdown",
   "id": "ae267c14",
   "metadata": {},
   "source": [
    "<div style=\"left-align: center; font-size: 15px; color: #003366; font-weight: bold; background-color: #f0f0f0; padding: 10px;\">\n",
    "    Data Sanitation\n",
    "</div>\n",
    "\n",
    "Values below 0 and above 100 will be removed as negative ages and the value above 100 are incorrect."
   ]
  },
  {
   "cell_type": "code",
   "execution_count": 10,
   "id": "90768956",
   "metadata": {},
   "outputs": [],
   "source": [
    "df.drop(df[(df['Age'] < 0) | (df['Age'] > 100)].index, inplace=True)"
   ]
  },
  {
   "cell_type": "code",
   "execution_count": 11,
   "id": "48f13d55",
   "metadata": {},
   "outputs": [],
   "source": [
    "#Fill null values with the highest occuring value\n",
    "df['self_employed'].fillna(df['self_employed'].mode()[0], inplace=True)"
   ]
  },
  {
   "cell_type": "code",
   "execution_count": 12,
   "id": "520a30fa",
   "metadata": {},
   "outputs": [],
   "source": [
    "df['work_interfere'] = df['work_interfere'].fillna('Don\\'t know' )"
   ]
  },
  {
   "cell_type": "code",
   "execution_count": 13,
   "id": "2d3eed8e",
   "metadata": {},
   "outputs": [
    {
     "data": {
      "text/plain": [
       "Age                          0\n",
       "Gender                       0\n",
       "self_employed                0\n",
       "family_history               0\n",
       "treatment                    0\n",
       "work_interfere               0\n",
       "no_employees                 0\n",
       "remote_work                  0\n",
       "tech_company                 0\n",
       "benefits                     0\n",
       "care_options                 0\n",
       "wellness_program             0\n",
       "seek_help                    0\n",
       "anonymity                    0\n",
       "leave                        0\n",
       "mental_health_consequence    0\n",
       "phys_health_consequence      0\n",
       "coworkers                    0\n",
       "supervisor                   0\n",
       "mental_health_interview      0\n",
       "phys_health_interview        0\n",
       "mental_vs_physical           0\n",
       "obs_consequence              0\n",
       "dtype: int64"
      ]
     },
     "execution_count": 13,
     "metadata": {},
     "output_type": "execute_result"
    }
   ],
   "source": [
    "df.isnull().sum()"
   ]
  },
  {
   "cell_type": "code",
   "execution_count": 14,
   "id": "86862f0b",
   "metadata": {},
   "outputs": [
    {
     "data": {
      "text/plain": [
       "array(['Female', 'M', 'Male', 'male', 'female', 'm', 'Male-ish', 'maile',\n",
       "       'Trans-female', 'Cis Female', 'F', 'something kinda male?',\n",
       "       'Cis Male', 'Woman', 'f', 'Mal', 'Male (CIS)', 'queer/she/they',\n",
       "       'non-binary', 'Femake', 'woman', 'Make', 'Nah', 'Enby', 'fluid',\n",
       "       'Genderqueer', 'Female ', 'Androgyne', 'Agender',\n",
       "       'cis-female/femme', 'Guy (-ish) ^_^', 'male leaning androgynous',\n",
       "       'Male ', 'Man', 'Trans woman', 'msle', 'Neuter', 'Female (trans)',\n",
       "       'queer', 'Female (cis)', 'Mail', 'cis male', 'A little about you',\n",
       "       'Malr', 'femail', 'Cis Man',\n",
       "       'ostensibly male, unsure what that really means'], dtype=object)"
      ]
     },
     "execution_count": 14,
     "metadata": {},
     "output_type": "execute_result"
    }
   ],
   "source": [
    "df['Gender'].unique()"
   ]
  },
  {
   "cell_type": "code",
   "execution_count": 15,
   "id": "2d4c325b",
   "metadata": {},
   "outputs": [
    {
     "name": "stdout",
     "output_type": "stream",
     "text": [
      "Male      991\n",
      "Female    250\n",
      "Other      13\n",
      "Name: Gender, dtype: int64\n"
     ]
    }
   ],
   "source": [
    "# Dictionary with lists of inconsistent values mapped to a single category\n",
    "gender_map = {\n",
    "    'Male': ['Male', 'M', 'male', 'Cis Male', 'Male (CIS)', 'Man', 'Male ', 'Cis Man', \n",
    "             'msle', 'Mal', 'maile', 'Make', 'Malr', 'Mail', 'something kinda male?', \n",
    "             'Guy (-ish) ^_^', 'male leaning androgynous', 'ostensibly male, unsure what that really means', 'm', 'cis male'],\n",
    "    \n",
    "    'Female': ['Female', 'F', 'female', 'Cis Female', 'Female (cis)', 'f', 'Femake', \n",
    "               'Woman', 'woman', 'Female ', 'cis-female/femme', 'femail', 'Trans-female', 'Female (trans)'],\n",
    "    \n",
    "  'Other': ['Female (trans)', 'queer/she/they', 'non-binary',\n",
    "                     'fluid', 'queer', 'Androgyne', 'Trans-female', 'male leaning androgynous',\n",
    "                      'Agender', 'A little about you', 'Nah', 'All',\n",
    "                      'ostensibly male, unsure what that really means',\n",
    "                      'Genderqueer', 'Enby', 'p', 'Neuter', 'something kinda male?',\n",
    "                      'Guy (-ish) ^_^', 'Trans woman','Male-ish']\n",
    "}\n",
    "\n",
    "# Flatten the dictionary into individual replace operations\n",
    "for key, values in gender_map.items():\n",
    "    df['Gender'].replace(values, key, inplace=True)\n",
    "\n",
    "# Display the updated Gender column\n",
    "print(df['Gender'].value_counts())\n"
   ]
  },
  {
   "cell_type": "code",
   "execution_count": 160,
   "id": "c9e74f26",
   "metadata": {},
   "outputs": [
    {
     "data": {
      "image/png": "[encoded data removed]",
      "text/plain": [
       "<Figure size 1000x400 with 1 Axes>"
      ]
     },
     "metadata": {},
     "output_type": "display_data"
    }
   ],
   "source": [
    "import matplotlib.pyplot as plt\n",
    "\n",
    "# Data\n",
    "labels = ['Male', 'Female', 'Other']\n",
    "sizes = [850, 250, 13]\n",
    "explode = (0, 0, 0)  # No slice is exploded\n",
    "\n",
    "# Create the donut chart\n",
    "plt.figure(figsize=(10, 4))\n",
    "\n",
    "# Plot donut chart\n",
    "plt.pie(sizes, explode=explode, labels=None, autopct='%1.1f%%', pctdistance=0.85, \n",
    "        wedgeprops=dict(width=0.4))  # Adjust width to create a donut chart\n",
    "\n",
    "# Add a left-aligned title, lowered on y-axis\n",
    "plt.title('Gender Distribution', loc='left', pad=10, y=1.1, fontsize=12)  # Lower y value and specify fontsize\n",
    "\n",
    "# Add a legend further to the right\n",
    "plt.legend(labels, loc='center left', bbox_to_anchor=(1.2, 0.5), title='Gender')  # Move legend further right\n",
    "\n",
    "# Adjust layout to make room for the legend\n",
    "plt.tight_layout()\n",
    "\n",
    "# Display the chart\n",
    "plt.show()\n"
   ]
  },
  {
   "cell_type": "code",
   "execution_count": 16,
   "id": "77ae44c6",
   "metadata": {},
   "outputs": [
    {
     "data": {
      "image/png": "[encoded data removed]",
      "text/plain": [
       "<Figure size 1000x600 with 1 Axes>"
      ]
     },
     "metadata": {},
     "output_type": "display_data"
    }
   ],
   "source": [
    "\n",
    "# Define the colors for the hues\n",
    "palette = {'Yes': 'lightblue', 'No': '#003366'}  # Light blue shades\n",
    "\n",
    "# Create a bar plot showing the count of each treatment status\n",
    "plt.figure(figsize=(10, 6))\n",
    "sns.countplot(data=df, x='treatment', palette=palette)\n",
    "\n",
    "# Adding titles and labels\n",
    "plt.title('Count of Each Treatment Status')\n",
    "plt.xlabel('Treatment Status')\n",
    "plt.ylabel('Count')\n",
    "\n",
    "# Show the plot\n",
    "plt.show()\n"
   ]
  },
  {
   "cell_type": "markdown",
   "id": "3228b98d",
   "metadata": {},
   "source": [
    "<div style=\"left-align: center; font-size: 15px; color: #003366; font-weight: bold; background-color: #f0f0f0; padding: 10px;\">\n",
    "    Inferences\n",
    "</div>\n",
    "\n",
    "The graph above shows that the target values are balanced. Balanced datasets help ensure that the model learns to predict both classes accurately. An unbalanced dataset can lead to poor performance on the minority class, as the model might be biased towards the majority class."
   ]
  },
  {
   "cell_type": "code",
   "execution_count": 17,
   "id": "f6ac4bc4",
   "metadata": {},
   "outputs": [
    {
     "data": {
      "image/png": "[encoded data removed]",
      "text/plain": [
       "<Figure size 1000x600 with 1 Axes>"
      ]
     },
     "metadata": {},
     "output_type": "display_data"
    }
   ],
   "source": [
    "\n",
    "\n",
    "# Create a bar plot showing the count of each treatment status by family history\n",
    "plt.figure(figsize=(10, 6))\n",
    "sns.countplot(data=df, x='family_history', hue='treatment', palette={'Yes': 'lightblue', 'No': '#003366'})  # Light blue and a darker blue\n",
    "\n",
    "# Adding titles and labels\n",
    "plt.title('Treatment by Family History')\n",
    "plt.xlabel('Family History')\n",
    "plt.ylabel('Count')\n",
    "plt.legend(title='Treatment', loc='upper right')\n",
    "\n",
    "# Show the plot\n",
    "plt.show()\n"
   ]
  },
  {
   "cell_type": "markdown",
   "id": "ebdbbe5c",
   "metadata": {},
   "source": [
    "<div style=\"left-align: center; font-size: 15px; color: #003366; font-weight: bold; background-color: #f0f0f0; padding: 10px;\">\n",
    "    Inferences\n",
    "</div>\n",
    "\n",
    "The graph above shows that individuals with a family history of mental health disorders are highly likely to opt for treatment."
   ]
  },
  {
   "cell_type": "code",
   "execution_count": 18,
   "id": "026ca7b3",
   "metadata": {},
   "outputs": [
    {
     "data": {
      "text/plain": [
       "6-25              289\n",
       "26-100            288\n",
       "More than 1000    281\n",
       "100-500           176\n",
       "1-5               160\n",
       "500-1000           60\n",
       "Name: no_employees, dtype: int64"
      ]
     },
     "execution_count": 18,
     "metadata": {},
     "output_type": "execute_result"
    }
   ],
   "source": [
    "#Checking the occurence of unique categories in no_employees column\n",
    "df['no_employees'].value_counts()"
   ]
  },
  {
   "cell_type": "code",
   "execution_count": 19,
   "id": "3646c9fd",
   "metadata": {},
   "outputs": [
    {
     "data": {
      "image/png": "[encoded data removed]",
      "text/plain": [
       "<Figure size 1000x600 with 1 Axes>"
      ]
     },
     "metadata": {},
     "output_type": "display_data"
    }
   ],
   "source": [
    "import matplotlib.pyplot as plt\n",
    "import seaborn as sns\n",
    "\n",
    "# Create a bar plot showing the count of each treatment status by number of employees\n",
    "plt.figure(figsize=(10, 6))\n",
    "sns.countplot(data=df, x='no_employees', hue='treatment', palette={'Yes': 'lightblue', 'No': '#003366'})  # A different shade of blue\n",
    "\n",
    "# Adding titles and labels\n",
    "plt.title('Treatment by Number of Employees')\n",
    "plt.xlabel('Number of Employees')\n",
    "plt.ylabel('Count')\n",
    "plt.legend(title='Treatment', loc='upper right')\n",
    "\n",
    "# Show the plot\n",
    "plt.show()\n"
   ]
  },
  {
   "cell_type": "markdown",
   "id": "3b08e214",
   "metadata": {},
   "source": [
    "<div style=\"left-align: center; font-size: 15px; color: #003366; font-weight: bold; background-color: #f0f0f0; padding: 10px;\">\n",
    "    Inferences\n",
    "</div>\n",
    "\n",
    "The graph shows that there is not a significant difference in the number who seek treatment and those who don't, indicating there is no relationship between numbers of employees and treatment-seeking behaviour."
   ]
  },
  {
   "cell_type": "code",
   "execution_count": 20,
   "id": "00dba7c1",
   "metadata": {},
   "outputs": [],
   "source": [
    "#Split features and target\n",
    "X=df.drop(columns=['treatment'], axis=1)\n",
    "y=df['treatment']"
   ]
  },
  {
   "cell_type": "code",
   "execution_count": 21,
   "id": "6c87df0c",
   "metadata": {},
   "outputs": [],
   "source": [
    "# One-hot encode categorical columns\n",
    "df_encoded = pd.get_dummies(X, drop_first=True)"
   ]
  },
  {
   "cell_type": "code",
   "execution_count": 22,
   "id": "02c12c7e",
   "metadata": {},
   "outputs": [
    {
     "data": {
      "text/html": [
       "<div>\n",
       "<style scoped>\n",
       "    .dataframe tbody tr th:only-of-type {\n",
       "        vertical-align: middle;\n",
       "    }\n",
       "\n",
       "    .dataframe tbody tr th {\n",
       "        vertical-align: top;\n",
       "    }\n",
       "\n",
       "    .dataframe thead th {\n",
       "        text-align: right;\n",
       "    }\n",
       "</style>\n",
       "<table border=\"1\" class=\"dataframe\">\n",
       "  <thead>\n",
       "    <tr style=\"text-align: right;\">\n",
       "      <th></th>\n",
       "      <th>Age</th>\n",
       "      <th>Gender_Male</th>\n",
       "      <th>Gender_Other</th>\n",
       "      <th>self_employed_Yes</th>\n",
       "      <th>family_history_Yes</th>\n",
       "      <th>work_interfere_Never</th>\n",
       "      <th>work_interfere_Often</th>\n",
       "      <th>work_interfere_Rarely</th>\n",
       "      <th>work_interfere_Sometimes</th>\n",
       "      <th>no_employees_100-500</th>\n",
       "      <th>...</th>\n",
       "      <th>coworkers_Yes</th>\n",
       "      <th>supervisor_Some of them</th>\n",
       "      <th>supervisor_Yes</th>\n",
       "      <th>mental_health_interview_No</th>\n",
       "      <th>mental_health_interview_Yes</th>\n",
       "      <th>phys_health_interview_No</th>\n",
       "      <th>phys_health_interview_Yes</th>\n",
       "      <th>mental_vs_physical_No</th>\n",
       "      <th>mental_vs_physical_Yes</th>\n",
       "      <th>obs_consequence_Yes</th>\n",
       "    </tr>\n",
       "  </thead>\n",
       "  <tbody>\n",
       "    <tr>\n",
       "      <th>0</th>\n",
       "      <td>37</td>\n",
       "      <td>0</td>\n",
       "      <td>0</td>\n",
       "      <td>0</td>\n",
       "      <td>0</td>\n",
       "      <td>0</td>\n",
       "      <td>1</td>\n",
       "      <td>0</td>\n",
       "      <td>0</td>\n",
       "      <td>0</td>\n",
       "      <td>...</td>\n",
       "      <td>0</td>\n",
       "      <td>0</td>\n",
       "      <td>1</td>\n",
       "      <td>1</td>\n",
       "      <td>0</td>\n",
       "      <td>0</td>\n",
       "      <td>0</td>\n",
       "      <td>0</td>\n",
       "      <td>1</td>\n",
       "      <td>0</td>\n",
       "    </tr>\n",
       "    <tr>\n",
       "      <th>1</th>\n",
       "      <td>44</td>\n",
       "      <td>1</td>\n",
       "      <td>0</td>\n",
       "      <td>0</td>\n",
       "      <td>0</td>\n",
       "      <td>0</td>\n",
       "      <td>0</td>\n",
       "      <td>1</td>\n",
       "      <td>0</td>\n",
       "      <td>0</td>\n",
       "      <td>...</td>\n",
       "      <td>0</td>\n",
       "      <td>0</td>\n",
       "      <td>0</td>\n",
       "      <td>1</td>\n",
       "      <td>0</td>\n",
       "      <td>1</td>\n",
       "      <td>0</td>\n",
       "      <td>0</td>\n",
       "      <td>0</td>\n",
       "      <td>0</td>\n",
       "    </tr>\n",
       "    <tr>\n",
       "      <th>2</th>\n",
       "      <td>32</td>\n",
       "      <td>1</td>\n",
       "      <td>0</td>\n",
       "      <td>0</td>\n",
       "      <td>0</td>\n",
       "      <td>0</td>\n",
       "      <td>0</td>\n",
       "      <td>1</td>\n",
       "      <td>0</td>\n",
       "      <td>0</td>\n",
       "      <td>...</td>\n",
       "      <td>1</td>\n",
       "      <td>0</td>\n",
       "      <td>1</td>\n",
       "      <td>0</td>\n",
       "      <td>1</td>\n",
       "      <td>0</td>\n",
       "      <td>1</td>\n",
       "      <td>1</td>\n",
       "      <td>0</td>\n",
       "      <td>0</td>\n",
       "    </tr>\n",
       "    <tr>\n",
       "      <th>3</th>\n",
       "      <td>31</td>\n",
       "      <td>1</td>\n",
       "      <td>0</td>\n",
       "      <td>0</td>\n",
       "      <td>1</td>\n",
       "      <td>0</td>\n",
       "      <td>1</td>\n",
       "      <td>0</td>\n",
       "      <td>0</td>\n",
       "      <td>0</td>\n",
       "      <td>...</td>\n",
       "      <td>0</td>\n",
       "      <td>0</td>\n",
       "      <td>0</td>\n",
       "      <td>0</td>\n",
       "      <td>0</td>\n",
       "      <td>0</td>\n",
       "      <td>0</td>\n",
       "      <td>1</td>\n",
       "      <td>0</td>\n",
       "      <td>1</td>\n",
       "    </tr>\n",
       "    <tr>\n",
       "      <th>4</th>\n",
       "      <td>31</td>\n",
       "      <td>1</td>\n",
       "      <td>0</td>\n",
       "      <td>0</td>\n",
       "      <td>0</td>\n",
       "      <td>1</td>\n",
       "      <td>0</td>\n",
       "      <td>0</td>\n",
       "      <td>0</td>\n",
       "      <td>1</td>\n",
       "      <td>...</td>\n",
       "      <td>0</td>\n",
       "      <td>0</td>\n",
       "      <td>1</td>\n",
       "      <td>0</td>\n",
       "      <td>1</td>\n",
       "      <td>0</td>\n",
       "      <td>1</td>\n",
       "      <td>0</td>\n",
       "      <td>0</td>\n",
       "      <td>0</td>\n",
       "    </tr>\n",
       "  </tbody>\n",
       "</table>\n",
       "<p>5 rows × 45 columns</p>\n",
       "</div>"
      ],
      "text/plain": [
       "   Age  Gender_Male  Gender_Other  self_employed_Yes  family_history_Yes  \\\n",
       "0   37            0             0                  0                   0   \n",
       "1   44            1             0                  0                   0   \n",
       "2   32            1             0                  0                   0   \n",
       "3   31            1             0                  0                   1   \n",
       "4   31            1             0                  0                   0   \n",
       "\n",
       "   work_interfere_Never  work_interfere_Often  work_interfere_Rarely  \\\n",
       "0                     0                     1                      0   \n",
       "1                     0                     0                      1   \n",
       "2                     0                     0                      1   \n",
       "3                     0                     1                      0   \n",
       "4                     1                     0                      0   \n",
       "\n",
       "   work_interfere_Sometimes  no_employees_100-500  ...  coworkers_Yes  \\\n",
       "0                         0                     0  ...              0   \n",
       "1                         0                     0  ...              0   \n",
       "2                         0                     0  ...              1   \n",
       "3                         0                     0  ...              0   \n",
       "4                         0                     1  ...              0   \n",
       "\n",
       "   supervisor_Some of them  supervisor_Yes  mental_health_interview_No  \\\n",
       "0                        0               1                           1   \n",
       "1                        0               0                           1   \n",
       "2                        0               1                           0   \n",
       "3                        0               0                           0   \n",
       "4                        0               1                           0   \n",
       "\n",
       "   mental_health_interview_Yes  phys_health_interview_No  \\\n",
       "0                            0                         0   \n",
       "1                            0                         1   \n",
       "2                            1                         0   \n",
       "3                            0                         0   \n",
       "4                            1                         0   \n",
       "\n",
       "   phys_health_interview_Yes  mental_vs_physical_No  mental_vs_physical_Yes  \\\n",
       "0                          0                      0                       1   \n",
       "1                          0                      0                       0   \n",
       "2                          1                      1                       0   \n",
       "3                          0                      1                       0   \n",
       "4                          1                      0                       0   \n",
       "\n",
       "   obs_consequence_Yes  \n",
       "0                    0  \n",
       "1                    0  \n",
       "2                    0  \n",
       "3                    1  \n",
       "4                    0  \n",
       "\n",
       "[5 rows x 45 columns]"
      ]
     },
     "execution_count": 22,
     "metadata": {},
     "output_type": "execute_result"
    }
   ],
   "source": [
    "df_encoded.head()"
   ]
  },
  {
   "cell_type": "code",
   "execution_count": 23,
   "id": "1706d8cb",
   "metadata": {},
   "outputs": [],
   "source": [
    "X_train, X_test, y_train, y_test = train_test_split(df_encoded, y, test_size=0.2, random_state=0)"
   ]
  },
  {
   "cell_type": "markdown",
   "id": "15e4f21b",
   "metadata": {},
   "source": [
    "<div style=\"left-align: center; font-size: 20px; color: #003366; font-weight: bold; background-color: #e0f7fa; padding: 10px;\">\n",
    "    Training and Evaluting Models before hyperparameter Tuning\n",
    "</div>\n"
   ]
  },
  {
   "cell_type": "code",
   "execution_count": 24,
   "id": "394e6743",
   "metadata": {},
   "outputs": [],
   "source": [
    "# Initialize models\n",
    "dt = DecisionTreeClassifier()\n",
    "rf = RandomForestClassifier(n_estimators=10)\n",
    "lr = LogisticRegression(max_iter=1000)\n",
    "svc = SVC(probability=True)"
   ]
  },
  {
   "cell_type": "code",
   "execution_count": 25,
   "id": "cc9c0a9e",
   "metadata": {},
   "outputs": [
    {
     "data": {
      "text/plain": [
       "SVC(probability=True)"
      ]
     },
     "execution_count": 25,
     "metadata": {},
     "output_type": "execute_result"
    }
   ],
   "source": [
    "# Train models\n",
    "dt.fit(X_train, y_train)\n",
    "rf.fit(X_train, y_train)\n",
    "lr.fit(X_train, y_train)\n",
    "svc.fit(X_train, y_train)"
   ]
  },
  {
   "cell_type": "code",
   "execution_count": 26,
   "id": "315186f9",
   "metadata": {},
   "outputs": [],
   "source": [
    "# Evaluate models\n",
    "y_pred_dt = dt.predict(X_test)\n",
    "y_pred_rf = rf.predict(X_test)\n",
    "y_pred_lr = lr.predict(X_test)\n",
    "y_pred_svc = svc.predict(X_test)"
   ]
  },
  {
   "cell_type": "code",
   "execution_count": 27,
   "id": "95c9eeb4",
   "metadata": {},
   "outputs": [
    {
     "name": "stdout",
     "output_type": "stream",
     "text": [
      "Decision Tree Accuracy: 0.7250996015936255\n",
      "Random Forest Accuracy: 0.7609561752988048\n",
      "Logistic Regression Accuracy: 0.8007968127490039\n",
      "SVC Accuracy: 0.6414342629482072\n"
     ]
    }
   ],
   "source": [
    "print(\"Decision Tree Accuracy:\", accuracy_score(y_test, y_pred_dt))\n",
    "print(\"Random Forest Accuracy:\", accuracy_score(y_test, y_pred_rf))\n",
    "print(\"Logistic Regression Accuracy:\", accuracy_score(y_test, y_pred_lr))\n",
    "print(\"SVC Accuracy:\", accuracy_score(y_test, y_pred_svc))"
   ]
  },
  {
   "cell_type": "code",
   "execution_count": 87,
   "id": "2d8642ed",
   "metadata": {},
   "outputs": [
    {
     "data": {
      "image/png": "[encoded data removed]",
      "text/plain": [
       "<Figure size 1000x600 with 1 Axes>"
      ]
     },
     "metadata": {},
     "output_type": "display_data"
    }
   ],
   "source": [
    "import matplotlib.pyplot as plt\n",
    "\n",
    "# Accuracy results before hyperparameter tuning\n",
    "model_names = ['Random Forest', 'Decision Tree', 'Logistic Regression', 'SVC', 'XGBoost']\n",
    "accuracy_scores = [0.7371, 0.7251, 0.8008, 0.6414, 0.7729]  # Rounded for readability\n",
    "\n",
    "# Same shades of blue\n",
    "colors = ['#B0E0E6', '#87CEEB', '#4682B4', '#5F9EA0', '#00008B']  # Light to dark blue\n",
    "\n",
    "# Plotting the accuracies\n",
    "plt.figure(figsize=(10, 6))\n",
    "bars = plt.bar(model_names, accuracy_scores, color=colors)\n",
    "\n",
    "# Adding titles and labels\n",
    "plt.title('Accuracy Scores Before Hyperparameter Tuning', loc='left', fontsize=16, pad=20)\n",
    "plt.ylim(0.6, 0.85)  # Adjusting the y-axis for consistency with the previous plot\n",
    "\n",
    "# Increase size of the model names and numbers on y-axis\n",
    "plt.xticks(fontsize=12)  # Increase fontsize\n",
    "plt.yticks(fontsize=12)  # Increase fontsize\n",
    "\n",
    "# Remove top and right spines\n",
    "plt.gca().spines['top'].set_visible(False)\n",
    "plt.gca().spines['right'].set_visible(False)\n",
    "\n",
    "# Remove x and y labels\n",
    "plt.xlabel('')\n",
    "plt.ylabel('')\n",
    "\n",
    "# Show plot\n",
    "plt.tight_layout()  # Adjust layout to fit labels\n",
    "plt.show()\n"
   ]
  },
  {
   "cell_type": "code",
   "execution_count": 29,
   "id": "97aeaae5",
   "metadata": {},
   "outputs": [
    {
     "name": "stdout",
     "output_type": "stream",
     "text": [
      "Decision Tree Metrics:\n",
      "Precision: 0.7251400746221462\n",
      "Recall: 0.7250996015936255\n",
      "F1-Score: 0.7251083290059913\n",
      "AUC-ROC: 0.7251079502159005\n",
      "\n",
      "Random Forest Metrics:\n",
      "Precision: 0.7622020195256661\n",
      "Recall: 0.7609561752988048\n",
      "F1-Score: 0.7608043436012051\n",
      "AUC-ROC: 0.8333121666243333\n",
      "\n",
      "Logistic Regression Metrics:\n",
      "Precision: 0.8099435394361493\n",
      "Recall: 0.8007968127490039\n",
      "F1-Score: 0.7990403398589814\n",
      "AUC-ROC: 0.8632842265684532\n",
      "\n",
      "SVC Metrics:\n",
      "Precision: 0.6419631075190655\n",
      "Recall: 0.6414342629482072\n",
      "F1-Score: 0.641331802583924\n",
      "AUC-ROC: 0.7320294640589281\n"
     ]
    }
   ],
   "source": [
    "\n",
    "# Decision Tree metrics\n",
    "precision_dt = precision_score(y_test, y_pred_dt, average='weighted')\n",
    "recall_dt = recall_score(y_test, y_pred_dt, average='weighted')\n",
    "f1_dt = f1_score(y_test, y_pred_dt, average='weighted')\n",
    "y_prob_dt = dt.predict_proba(X_test)[:, 1]\n",
    "auc_roc_dt = roc_auc_score(y_test, y_prob_dt)\n",
    "\n",
    "print(\"Decision Tree Metrics:\")\n",
    "print(f\"Precision: {precision_dt}\")\n",
    "print(f\"Recall: {recall_dt}\")\n",
    "print(f\"F1-Score: {f1_dt}\")\n",
    "print(f\"AUC-ROC: {auc_roc_dt}\\n\")\n",
    "\n",
    "# Random Forest metrics\n",
    "precision_rf = precision_score(y_test, y_pred_rf, average='weighted')\n",
    "recall_rf = recall_score(y_test, y_pred_rf, average='weighted')\n",
    "f1_rf = f1_score(y_test, y_pred_rf, average='weighted')\n",
    "y_prob_rf = rf.predict_proba(X_test)[:, 1]\n",
    "auc_roc_rf = roc_auc_score(y_test, y_prob_rf)\n",
    "\n",
    "print(\"Random Forest Metrics:\")\n",
    "print(f\"Precision: {precision_rf}\")\n",
    "print(f\"Recall: {recall_rf}\")\n",
    "print(f\"F1-Score: {f1_rf}\")\n",
    "print(f\"AUC-ROC: {auc_roc_rf}\\n\")\n",
    "\n",
    "# Logistic Regression metrics\n",
    "precision_lr = precision_score(y_test, y_pred_lr, average='weighted')\n",
    "recall_lr = recall_score(y_test, y_pred_lr, average='weighted')\n",
    "f1_lr = f1_score(y_test, y_pred_lr, average='weighted')\n",
    "y_prob_lr = lr.predict_proba(X_test)[:, 1]\n",
    "auc_roc_lr = roc_auc_score(y_test, y_prob_lr)\n",
    "\n",
    "print(\"Logistic Regression Metrics:\")\n",
    "print(f\"Precision: {precision_lr}\")\n",
    "print(f\"Recall: {recall_lr}\")\n",
    "print(f\"F1-Score: {f1_lr}\")\n",
    "print(f\"AUC-ROC: {auc_roc_lr}\\n\")\n",
    "\n",
    "# SVC metrics (Note: SVC doesn't use predict_proba but decision_function)\n",
    "precision_svc = precision_score(y_test, y_pred_svc, average='weighted')\n",
    "recall_svc = recall_score(y_test, y_pred_svc, average='weighted')\n",
    "f1_svc = f1_score(y_test, y_pred_svc, average='weighted')\n",
    "y_prob_svc = svc.decision_function(X_test)\n",
    "auc_roc_svc = roc_auc_score(y_test, y_prob_svc)\n",
    "\n",
    "print(\"SVC Metrics:\")\n",
    "print(f\"Precision: {precision_svc}\")\n",
    "print(f\"Recall: {recall_svc}\")\n",
    "print(f\"F1-Score: {f1_svc}\")\n",
    "print(f\"AUC-ROC: {auc_roc_svc}\")\n"
   ]
  },
  {
   "cell_type": "markdown",
   "id": "395be9f1",
   "metadata": {},
   "source": [
    "<div style=\"left-align: center; font-size: 15px; color: #003366; font-weight: bold; background-color: #f0f0f0; padding: 10px;\">\n",
    "    Inferences\n",
    "</div>\n",
    "\n",
    "Based on the results, Logistic Regression accurately predicted 80% of the target values using default parameters. "
   ]
  },
  {
   "cell_type": "code",
   "execution_count": 30,
   "id": "af7670c8",
   "metadata": {},
   "outputs": [],
   "source": [
    "# Metrics for each model (example values)\n",
    "metrics = ['Precision', 'Recall', 'F1-Score', 'AUC-ROC']\n",
    "dt_metrics = [precision_dt, recall_dt, f1_dt, auc_roc_dt]\n",
    "rf_metrics = [precision_rf, recall_rf, f1_rf, auc_roc_rf]\n",
    "lr_metrics = [precision_lr, recall_lr, f1_lr, auc_roc_lr]\n",
    "svc_metrics = [precision_svc, recall_svc, f1_svc, auc_roc_svc]\n",
    "\n",
    "# Colors for each model\n",
    "colors_dt = ['#B0E0E6', '#ADD8E6', '#87CEEB', '#4682B4']  # Shades of blue\n",
    "colors_rf = ['#E6E6FA', '#D8BFD8', '#DDA0DD', '#BA55D3']  # Light to dark purple  # Shades of orange\n",
    "colors_lr = ['#98FB98', '#00FF7F', '#32CD32', '#228B22']  # Shades of green\n",
    "colors_svc = ['#FFC0CB', '#FF69B4', '#FF1493', '#C71585']  # Shades of pink"
   ]
  },
  {
   "cell_type": "code",
   "execution_count": 31,
   "id": "62fc5d7f",
   "metadata": {},
   "outputs": [
    {
     "data": {
      "image/png": "[encoded data removed]",
      "text/plain": [
       "<Figure size 1000x600 with 1 Axes>"
      ]
     },
     "metadata": {},
     "output_type": "display_data"
    }
   ],
   "source": [
    "# Plotting for Decision Tree\n",
    "plt.figure(figsize=(10, 6))\n",
    "plt.bar(metrics, dt_metrics, color=colors_dt)\n",
    "plt.title('Decision Tree Metrics', fontsize=16)\n",
    "plt.ylim(0, 1)\n",
    "plt.show()"
   ]
  },
  {
   "cell_type": "code",
   "execution_count": 32,
   "id": "4cbd6dfe",
   "metadata": {},
   "outputs": [
    {
     "data": {
      "image/png": "[encoded data removed]",
      "text/plain": [
       "<Figure size 1000x600 with 1 Axes>"
      ]
     },
     "metadata": {},
     "output_type": "display_data"
    }
   ],
   "source": [
    "# Plotting for Random Forest\n",
    "plt.figure(figsize=(10, 6))\n",
    "plt.bar(metrics, rf_metrics, color=colors_rf)\n",
    "plt.title('Random Forest Metrics', fontsize=16)\n",
    "plt.ylim(0, 1)\n",
    "plt.show()"
   ]
  },
  {
   "cell_type": "code",
   "execution_count": 33,
   "id": "f2f2bf11",
   "metadata": {},
   "outputs": [
    {
     "data": {
      "image/png": "[encoded data removed]",
      "text/plain": [
       "<Figure size 1000x600 with 1 Axes>"
      ]
     },
     "metadata": {},
     "output_type": "display_data"
    }
   ],
   "source": [
    "# Plotting for SVC\n",
    "plt.figure(figsize=(10, 6))\n",
    "plt.bar(metrics, svc_metrics, color=colors_svc)\n",
    "plt.title('SVC Metrics', fontsize=16)\n",
    "plt.ylim(0, 1)\n",
    "plt.show()"
   ]
  },
  {
   "cell_type": "code",
   "execution_count": 34,
   "id": "495db1c5",
   "metadata": {},
   "outputs": [
    {
     "data": {
      "image/png": "[encoded data removed]",
      "text/plain": [
       "<Figure size 1000x600 with 1 Axes>"
      ]
     },
     "metadata": {},
     "output_type": "display_data"
    }
   ],
   "source": [
    "# Plotting for Logistic Regression\n",
    "plt.figure(figsize=(10, 6))\n",
    "plt.bar(metrics, lr_metrics, color=colors_lr)\n",
    "plt.title('Logistic Regression Metrics', fontsize=16)\n",
    "plt.ylim(0, 1)\n",
    "plt.show()"
   ]
  },
  {
   "cell_type": "markdown",
   "id": "8fe81a78",
   "metadata": {},
   "source": [
    "<div style=\"left-align: center; font-size: 20px; color: #003366; font-weight: bold; background-color: #e0f7fa; padding: 10px;\">\n",
    "    Evaluating the models after Hyperparameter tuning\n",
    "</div>\n",
    "\n",
    "***GridSearchCV*** was applied to the models to find the best parameters to make predictions.\n"
   ]
  },
  {
   "cell_type": "code",
   "execution_count": 35,
   "id": "e3749929",
   "metadata": {},
   "outputs": [],
   "source": [
    "from sklearn.model_selection import GridSearchCV"
   ]
  },
  {
   "cell_type": "code",
   "execution_count": 36,
   "id": "7e8d4ffd",
   "metadata": {},
   "outputs": [
    {
     "name": "stdout",
     "output_type": "stream",
     "text": [
      "Fitting 5 folds for each of 432 candidates, totalling 2160 fits\n",
      "Best parameters found:  {'max_depth': None, 'max_features': 'auto', 'min_samples_leaf': 2, 'min_samples_split': 10, 'n_estimators': 300}\n",
      "Best cross-validation score:  0.8354875621890546\n",
      "Random Forest Accuracy with Best Parameters: 0.7928286852589641\n"
     ]
    }
   ],
   "source": [
    "# Define the model\n",
    "rf = RandomForestClassifier(random_state=42)\n",
    "\n",
    "# Define the parameter grid\n",
    "param_grid = {\n",
    "    'n_estimators': [100, 200, 300, 400],         # Number of trees\n",
    "    'max_depth': [None, 10, 20, 30],        # Depth of trees\n",
    "    'min_samples_split': [2, 5, 10],        # Minimum samples to split an internal node\n",
    "    'min_samples_leaf': [1, 2, 5],          # Minimum samples at a leaf node\n",
    "    'max_features': ['auto', 'sqrt', 'log2']  # Number of features to consider for best split\n",
    "}\n",
    "\n",
    "# Setup the GridSearchCV\n",
    "grid_search = GridSearchCV(estimator=rf, param_grid=param_grid, cv=5, n_jobs=-1, verbose=2)\n",
    "\n",
    "# Fit the GridSearchCV\n",
    "grid_search.fit(X_train, y_train)\n",
    "\n",
    "# Print the best parameters and best score\n",
    "print(\"Best parameters found: \", grid_search.best_params_)\n",
    "print(\"Best cross-validation score: \", grid_search.best_score_)\n",
    "\n",
    "# Evaluate on the test set\n",
    "best_rf = grid_search.best_estimator_\n",
    "y_pred_rf = best_rf.predict(X_test)\n",
    "from sklearn.metrics import accuracy_score\n",
    "print(\"Random Forest Accuracy with Best Parameters:\", accuracy_score(y_test, y_pred_rf))"
   ]
  },
  {
   "cell_type": "code",
   "execution_count": 27,
   "id": "07db158a",
   "metadata": {},
   "outputs": [
    {
     "name": "stdout",
     "output_type": "stream",
     "text": [
      "Fitting 5 folds for each of 768 candidates, totalling 3840 fits\n",
      "Best parameters found:  {'criterion': 'entropy', 'max_depth': None, 'max_features': None, 'min_samples_leaf': 2, 'min_samples_split': 15}\n",
      "Best cross-validation score:  0.8005771144278608\n",
      "Decision Tree Accuracy with Best Parameters: 0.7569721115537849\n"
     ]
    }
   ],
   "source": [
    "\n",
    "# Define the parameter grid\n",
    "param_grid = {\n",
    "    'max_depth': [None, 10, 20, 30, 40, 50],\n",
    "    'min_samples_split': [2, 5, 10, 15],\n",
    "    'min_samples_leaf': [1, 2, 4, 6],\n",
    "    'max_features': ['auto', 'sqrt', 'log2', None],\n",
    "    'criterion': ['gini', 'entropy']\n",
    "}\n",
    "\n",
    "# Initialize the DecisionTreeClassifier\n",
    "dt = DecisionTreeClassifier(random_state=42)\n",
    "\n",
    "# Setup GridSearchCV\n",
    "grid_search = GridSearchCV(estimator=dt, param_grid=param_grid, cv=5, n_jobs=-1, verbose=2)\n",
    "\n",
    "# Fit the GridSearchCV\n",
    "grid_search.fit(X_train, y_train)\n",
    "\n",
    "# Get the best parameters and score\n",
    "best_params = grid_search.best_params_\n",
    "best_score = grid_search.best_score_\n",
    "\n",
    "print(\"Best parameters found: \", best_params)\n",
    "print(\"Best cross-validation score: \", best_score)\n",
    "\n",
    "# Evaluate on the test set\n",
    "best_dt = grid_search.best_estimator_\n",
    "y_pred_dt = best_dt.predict(X_test)\n",
    "print(\"Decision Tree Accuracy with Best Parameters:\", accuracy_score(y_test, y_pred_dt))"
   ]
  },
  {
   "cell_type": "code",
   "execution_count": 28,
   "id": "f555670f",
   "metadata": {},
   "outputs": [
    {
     "name": "stdout",
     "output_type": "stream",
     "text": [
      "Fitting 5 folds for each of 96 candidates, totalling 480 fits\n",
      "Best parameters found:  {'C': 1, 'class_weight': None, 'max_iter': 300, 'penalty': 'l2'}\n",
      "Best cross-validation score:  0.8275572139303481\n",
      "Logistic Regression Accuracy with Best Parameters: 0.8007968127490039\n"
     ]
    }
   ],
   "source": [
    "\n",
    "# Define the parameter grid\n",
    "param_grid = {\n",
    "    'C': [0.001, 0.01, 0.1, 1, 2, 5, 10, 100],\n",
    "    'penalty': ['l2','none'],\n",
    "    'max_iter': [300, 500, 1000],\n",
    "    'class_weight': [None, 'balanced']\n",
    "}\n",
    "\n",
    "# Initialize the LogisticRegression\n",
    "lr = LogisticRegression()\n",
    "\n",
    "# Setup GridSearchCV\n",
    "grid_search = GridSearchCV(estimator=lr, param_grid=param_grid, cv=5, n_jobs=-1, verbose=2, error_score='raise')\n",
    "\n",
    "# Fit the GridSearchCV\n",
    "grid_search.fit(X_train, y_train)\n",
    "\n",
    "# Get the best parameters and score\n",
    "best_params = grid_search.best_params_\n",
    "best_score = grid_search.best_score_\n",
    "\n",
    "print(\"Best parameters found: \", best_params)\n",
    "print(\"Best cross-validation score: \", best_score)\n",
    "\n",
    "# Evaluate on the test set\n",
    "best_lr = grid_search.best_estimator_\n",
    "y_pred_lr = best_lr.predict(X_test)\n",
    "print(\"Logistic Regression Accuracy with Best Parameters:\", accuracy_score(y_test, y_pred_lr))"
   ]
  },
  {
   "cell_type": "code",
   "execution_count": 29,
   "id": "02acce2c",
   "metadata": {},
   "outputs": [
    {
     "name": "stdout",
     "output_type": "stream",
     "text": [
      "Fitting 5 folds for each of 432 candidates, totalling 2160 fits\n",
      "Best parameters for SVC found:  {'C': 10, 'coef0': 1.0, 'degree': 2, 'gamma': 'scale', 'kernel': 'poly'}\n",
      "Best cross-validation score for SVC:  0.8424875621890549\n",
      "SVC Accuracy with Best Parameters: 0.8007968127490039\n"
     ]
    }
   ],
   "source": [
    "# Define the parameter grid\n",
    "param_grid_svc = {\n",
    "    'C': [0.001, 0.01, 0.1, 1, 10, 100],\n",
    "    'kernel': ['linear', 'poly', 'rbf', 'sigmoid'],\n",
    "    'degree': [2, 3, 4],  # Only for 'poly' kernel\n",
    "    'gamma': ['scale', 'auto'],  # Only for 'rbf', 'poly', and 'sigmoid'\n",
    "    'coef0': [0.0, 0.5, 1.0],  # Only for 'poly' and 'sigmoid'\n",
    "}\n",
    "\n",
    "# Initialize the SVC\n",
    "svc = SVC(probability=True)\n",
    "\n",
    "# Setup GridSearchCV\n",
    "grid_search_svc = GridSearchCV(estimator=svc, param_grid=param_grid_svc, cv=5, n_jobs=-1, verbose=2, error_score='raise')\n",
    "\n",
    "# Fit the GridSearchCV\n",
    "grid_search_svc.fit(X_train, y_train)\n",
    "\n",
    "# Get the best parameters and score\n",
    "best_params_svc = grid_search_svc.best_params_\n",
    "best_score_svc = grid_search_svc.best_score_\n",
    "\n",
    "print(\"Best parameters for SVC found: \", best_params_svc)\n",
    "print(\"Best cross-validation score for SVC: \", best_score_svc)\n",
    "\n",
    "# Evaluate on the test set\n",
    "best_svc = grid_search_svc.best_estimator_\n",
    "y_pred_svc = best_svc.predict(X_test)\n",
    "\n",
    "print(\"SVC Accuracy with Best Parameters:\", accuracy_score(y_test, y_pred_svc))"
   ]
  },
  {
   "cell_type": "code",
   "execution_count": 30,
   "id": "2e2481e1",
   "metadata": {},
   "outputs": [
    {
     "name": "stdout",
     "output_type": "stream",
     "text": [
      "Logistic Regression Precision: 0.8099435394361493\n",
      "Logistic Regression Recall: 0.8007968127490039\n",
      "Logistic Regression F1 Score: 0.7990403398589814\n",
      "Decision Tree Precision: 0.7572650574173893\n",
      "Decision Tree Recall: 0.7569721115537849\n",
      "Decision Tree F1 Score: 0.75681765367467\n",
      "Random Forest Precision: 0.803504920714493\n",
      "Random Forest Recall: 0.7928286852589641\n",
      "Random Forest F1 Score: 0.7906728686487349\n",
      "SVC Precision: 0.8272242874569763\n",
      "SVC Recall: 0.8007968127490039\n",
      "SVC F1 Score: 0.7962476703465902\n"
     ]
    }
   ],
   "source": [
    "# Precision, Recall, F1 Score\n",
    "precision_dt = precision_score(y_test, y_pred_dt, average='weighted')\n",
    "recall_dt = recall_score(y_test, y_pred_dt, average='weighted')\n",
    "f1_dt = f1_score(y_test, y_pred_dt, average='weighted')\n",
    "\n",
    "precision_rf = precision_score(y_test, y_pred_rf, average='weighted')\n",
    "recall_rf = recall_score(y_test, y_pred_rf, average='weighted')\n",
    "f1_rf = f1_score(y_test, y_pred_rf, average='weighted')\n",
    "\n",
    "precision_lr = precision_score(y_test, y_pred_lr, average='weighted')\n",
    "recall_lr = recall_score(y_test, y_pred_lr, average='weighted')\n",
    "f1_lr = f1_score(y_test, y_pred_lr, average='weighted')\n",
    "\n",
    "precision_svc = precision_score(y_test, y_pred_svc, average='weighted')\n",
    "recall_svc = recall_score(y_test, y_pred_svc, average='weighted')\n",
    "f1_svc = f1_score(y_test, y_pred_svc, average='weighted')\n",
    "\n",
    "print(\"Logistic Regression Precision:\", precision_lr)\n",
    "print(\"Logistic Regression Recall:\", recall_lr)\n",
    "print(\"Logistic Regression F1 Score:\", f1_lr)\n",
    "\n",
    "print(\"Decision Tree Precision:\", precision_dt)\n",
    "print(\"Decision Tree Recall:\", recall_dt)\n",
    "print(\"Decision Tree F1 Score:\", f1_dt)\n",
    "\n",
    "print(\"Random Forest Precision:\", precision_rf)\n",
    "print(\"Random Forest Recall:\", recall_rf)\n",
    "print(\"Random Forest F1 Score:\", f1_rf)\n",
    "\n",
    "print(\"SVC Precision:\", precision_svc)\n",
    "print(\"SVC Recall:\", recall_svc)\n",
    "print(\"SVC F1 Score:\", f1_svc)\n"
   ]
  },
  {
   "cell_type": "code",
   "execution_count": 32,
   "id": "b4ee9e51",
   "metadata": {},
   "outputs": [
    {
     "name": "stdout",
     "output_type": "stream",
     "text": [
      "Logistic Regression AUC-ROC: 0.8632207264414529\n",
      "SVC AUC-ROC: 0.8492189484378968\n",
      "Decision Tree AUC-ROC: 0.7968313436626873\n",
      "Random Forest AUC-ROC: 0.8638557277114555\n"
     ]
    }
   ],
   "source": [
    "# Predict probabilities using the fitted models from GridSearchCV\n",
    "y_prob_lr = best_lr.predict_proba(X_test)[:, 1]\n",
    "y_prob_svc = best_svc.predict_proba(X_test)[:, 1] \n",
    "\n",
    "# AUC-ROC\n",
    "auc_roc_lr = roc_auc_score(y_test, y_prob_lr)\n",
    "auc_roc_svc = roc_auc_score(y_test, y_prob_svc)\n",
    "\n",
    "# DecisionTree and RandomForest need probabilities as well\n",
    "y_prob_dt = best_dt.predict_proba(X_test)[:, 1] \n",
    "y_prob_rf = best_rf.predict_proba(X_test)[:, 1]\n",
    "\n",
    "auc_roc_dt = roc_auc_score(y_test, y_prob_dt)\n",
    "auc_roc_rf = roc_auc_score(y_test, y_prob_rf)\n",
    "\n",
    "# Print AUC-ROC scores\n",
    "print(\"Logistic Regression AUC-ROC:\", auc_roc_lr)\n",
    "print(\"SVC AUC-ROC:\", auc_roc_svc)\n",
    "print(\"Decision Tree AUC-ROC:\", auc_roc_dt)\n",
    "print(\"Random Forest AUC-ROC:\", auc_roc_rf)\n"
   ]
  },
  {
   "cell_type": "code",
   "execution_count": 34,
   "id": "fd3fdf19",
   "metadata": {},
   "outputs": [
    {
     "name": "stdout",
     "output_type": "stream",
     "text": [
      "XGBoost Accuracy: 0.7729083665338645\n",
      "XGBoost Precision: 0.7776513365023809\n",
      "XGBoost Recall: 0.7729083665338645\n",
      "XGBoost F1 Score: 0.7716749811985106\n",
      "XGBoost AUC-ROC: 0.8388366776733553\n"
     ]
    }
   ],
   "source": [
    "import xgboost as xgb\n",
    "\n",
    "\n",
    "# Assuming you already have X_train, X_test, y_train, and y_test\n",
    "\n",
    "# Transform the target variable into binary format\n",
    "le = LabelEncoder()\n",
    "y_train_binary = le.fit_transform(y_train)\n",
    "y_test_binary = le.transform(y_test)\n",
    "\n",
    "# Initialize XGBoost model\n",
    "xgb_model = xgb.XGBClassifier(eval_metric='logloss')\n",
    "\n",
    "# Train XGBoost model\n",
    "xgb_model.fit(X_train, y_train_binary)\n",
    "\n",
    "# Predict on test set\n",
    "y_pred_xgb = xgb_model.predict(X_test)\n",
    "\n",
    "# Evaluate XGBoost model\n",
    "print(\"XGBoost Accuracy:\", accuracy_score(y_test_binary, y_pred_xgb))\n",
    "\n",
    "precision_xgb = precision_score(y_test_binary, y_pred_xgb, average='weighted')\n",
    "recall_xgb = recall_score(y_test_binary, y_pred_xgb, average='weighted')\n",
    "f1_xgb = f1_score(y_test_binary, y_pred_xgb, average='weighted')\n",
    "\n",
    "print(\"XGBoost Precision:\", precision_xgb)\n",
    "print(\"XGBoost Recall:\", recall_xgb)\n",
    "print(\"XGBoost F1 Score:\", f1_xgb)\n",
    "\n",
    "# Predict probabilities for AUC-ROC\n",
    "y_prob_xgb = xgb_model.predict_proba(X_test)[:, 1]\n",
    "\n",
    "# AUC-ROC score\n",
    "auc_roc_xgb = roc_auc_score(y_test_binary, y_prob_xgb)\n",
    "print(\"XGBoost AUC-ROC:\", auc_roc_xgb)\n"
   ]
  },
  {
   "cell_type": "code",
   "execution_count": 35,
   "id": "aaef73ca",
   "metadata": {},
   "outputs": [
    {
     "name": "stdout",
     "output_type": "stream",
     "text": [
      "Fitting 5 folds for each of 5184 candidates, totalling 25920 fits\n",
      "Best parameters found:  {'colsample_bytree': 0.8, 'gamma': 0.3, 'learning_rate': 0.1, 'max_depth': 3, 'n_estimators': 100, 'scale_pos_weight': 1, 'subsample': 1.0}\n",
      "Best cross-validation score:  0.8968826353223557\n",
      "XGBoost Accuracy: 0.8087649402390438\n",
      "XGBoost Precision: 0.8181827237700074\n",
      "XGBoost Recall: 0.8087649402390438\n",
      "XGBoost F1 Score: 0.8070787262646221\n",
      "XGBoost AUC-ROC: 0.8516637033274066\n"
     ]
    }
   ],
   "source": [
    "\n",
    "\n",
    "# Define the parameter grid for XGBoost\n",
    "param_grid = {\n",
    "    'n_estimators': [100, 200, 300, 400],  # Number of boosting rounds\n",
    "    'max_depth': [3, 6, 10, 15],           # Maximum depth of the trees\n",
    "    'learning_rate': [0.01, 0.1, 0.2],     # Step size shrinkage\n",
    "    'subsample': [0.8, 0.9, 1.0],          # Fraction of samples used for fitting each base learner\n",
    "    'colsample_bytree': [0.8, 0.9, 1.0],   # Fraction of features used for each base learner\n",
    "    'gamma': [0, 0.1, 0.2, 0.3],           # Minimum loss reduction required to make a further partition\n",
    "    'scale_pos_weight': [1, 2, 5],          # Control the balance of positive and negative weights\n",
    "}\n",
    "\n",
    "# Initialize XGBoost model\n",
    "xgb_model = xgb.XGBClassifier(eval_metric='logloss')\n",
    "\n",
    "# Setup GridSearchCV\n",
    "grid_search = GridSearchCV(estimator=xgb_model, param_grid=param_grid, \n",
    "                           scoring='roc_auc', cv=5, n_jobs=-1, verbose=2)\n",
    "\n",
    "# Fit GridSearchCV\n",
    "grid_search.fit(X_train, y_train_binary)\n",
    "\n",
    "# Print the best parameters and best score\n",
    "print(\"Best parameters found: \", grid_search.best_params_)\n",
    "print(\"Best cross-validation score: \", grid_search.best_score_)\n",
    "\n",
    "# Get the best estimator\n",
    "best_xgb_model = grid_search.best_estimator_\n",
    "\n",
    "# Predict on test set using the best model\n",
    "y_pred_xgb = best_xgb_model.predict(X_test)\n",
    "\n",
    "# Evaluate the best XGBoost model\n",
    "print(\"XGBoost Accuracy:\", accuracy_score(y_test_binary, y_pred_xgb))\n",
    "\n",
    "precision_xgb = precision_score(y_test_binary, y_pred_xgb, average='weighted')\n",
    "recall_xgb = recall_score(y_test_binary, y_pred_xgb, average='weighted')\n",
    "f1_xgb = f1_score(y_test_binary, y_pred_xgb, average='weighted')\n",
    "\n",
    "print(\"XGBoost Precision:\", precision_xgb)\n",
    "print(\"XGBoost Recall:\", recall_xgb)\n",
    "print(\"XGBoost F1 Score:\", f1_xgb)\n",
    "\n",
    "# Predict probabilities for AUC-ROC\n",
    "y_prob_xgb = best_xgb_model.predict_proba(X_test)[:, 1]\n",
    "\n",
    "# AUC-ROC score\n",
    "auc_roc_xgb = roc_auc_score(y_test_binary, y_prob_xgb)\n",
    "print(\"XGBoost AUC-ROC:\", auc_roc_xgb)\n"
   ]
  },
  {
   "cell_type": "code",
   "execution_count": 134,
   "id": "1ea68934",
   "metadata": {},
   "outputs": [
    {
     "data": {
      "image/png": "[encoded data removed]",
      "text/plain": [
       "<Figure size 1000x600 with 1 Axes>"
      ]
     },
     "metadata": {},
     "output_type": "display_data"
    }
   ],
   "source": [
    "import matplotlib.pyplot as plt\n",
    "\n",
    "# Accuracy results after hyperparameter tuning\n",
    "model_names = ['Random Forest', 'Decision Tree', 'Logistic Regression', 'SVC', 'XGBoost']\n",
    "accuracy_scores = [0.7928, 0.7570, 0.8008, 0.8008, 0.8088]  # Rounded for readability\n",
    "\n",
    "# Different shades of blue\n",
    "colors = ['#B0E0E6', '#87CEEB', '#4682B4', '#5F9EA0', '#00008B']  # Light to dark blue\n",
    "\n",
    "# Plotting the accuracies\n",
    "plt.figure(figsize=(10, 6))\n",
    "bars = plt.bar(model_names, accuracy_scores, color=colors)\n",
    "\n",
    "# Adding titles and labels\n",
    "plt.ylim(0.7, 0.82)  # Adjusting the y-axis to end at 0.82\n",
    "\n",
    "# Increase size of the model names and numbers on y-axis\n",
    "plt.xticks(fontsize=12)  # Increase fontsize\n",
    "plt.yticks(fontsize=12)  # Increase fontsize\n",
    "\n",
    "# Add a left-aligned bold title with extra space\n",
    "plt.title('Accuracy Scores After Hyperparameter Tuning', loc='left', fontsize=16, pad=20)\n",
    "\n",
    "# Remove top and right spines\n",
    "plt.gca().spines['top'].set_visible(False)\n",
    "plt.gca().spines['right'].set_visible(False)\n",
    "\n",
    "# Show plot\n",
    "plt.tight_layout()  # Adjust layout to fit labels\n",
    "plt.show()\n"
   ]
  },
  {
   "cell_type": "code",
   "execution_count": 136,
   "id": "db7e78a7",
   "metadata": {},
   "outputs": [
    {
     "data": {
      "image/png": "[encoded data removed]",
      "text/plain": [
       "<Figure size 1000x600 with 1 Axes>"
      ]
     },
     "metadata": {},
     "output_type": "display_data"
    }
   ],
   "source": [
    "import matplotlib.pyplot as plt\n",
    "import pandas as pd\n",
    "import re\n",
    "\n",
    "# Example data\n",
    "# Replace these lines with your actual data\n",
    "# feature_importances = best_rf.feature_importances_\n",
    "# X_train = pd.DataFrame(...)  # Your DataFrame with feature names\n",
    "\n",
    "# Create a DataFrame for better visualization\n",
    "features = pd.DataFrame({'Feature': X_train.columns, 'Importance': feature_importances})\n",
    "\n",
    "# Use regular expressions to remove suffixes added to one-hot encoded columns (after underscores)\n",
    "features['Base Feature'] = features['Feature'].apply(lambda x: re.split(r'_\\d+|_[A-Za-z]+$', x)[0])\n",
    "\n",
    "# Group by base feature and sum the importance values\n",
    "features_grouped = features.groupby('Base Feature').sum().sort_values(by='Importance', ascending=False)\n",
    "\n",
    "# Plot the top 5 most important base features\n",
    "plt.figure(figsize=(10, 6))\n",
    "plt.barh(features_grouped.index[:5], features_grouped['Importance'][:5], color='#4682B4')  # Using a single color\n",
    "\n",
    "# Adding title and formatting\n",
    "plt.title('Top 5 Predictors of Outcome', loc='left', fontsize=16)\n",
    "plt.gca().invert_yaxis()  # To display the most important features at the top\n",
    "\n",
    "# Remove top and right spines\n",
    "plt.gca().spines['top'].set_visible(False)\n",
    "plt.gca().spines['right'].set_visible(False)\n",
    "\n",
    "plt.xticks(fontsize=12)  # Increase fontsize\n",
    "plt.yticks(fontsize=12)  # Increase fontsize\n",
    "\n",
    "# Show plot\n",
    "plt.tight_layout()  # Adjust layout to fit labels\n",
    "plt.show()\n"
   ]
  },
  {
   "cell_type": "markdown",
   "id": "5e9715b1",
   "metadata": {},
   "source": [
    "<div style=\"left-align: center; font-size: 20px; color: #003366; font-weight: bold; background-color: #e0f7fa; padding: 10px;\">\n",
    "    Conclusion\n",
    "</div>\n"
   ]
  },
  {
   "cell_type": "markdown",
   "id": "e07b4373",
   "metadata": {},
   "source": [
    "<div style=\"left-align: center; font-size: 15px; color: #003366; font-weight: bold; background-color: #f0f0f0; padding: 10px;\">\n",
    "    Best Performing Model\n",
    "</div>\n",
    "\n",
    "**Random Forest** is the best performing model overall based on the following considerations:\n",
    "\n",
    "- **Accuracy**: Highest among the models (0.79).\n",
    "- **Precision**: Highest precision (0.80), which indicates fewer false positives.\n",
    "- **Recall**: Highest recall (0.792), which means it captures the most positive cases.\n",
    "- **F1 Score**: Slightly lower than Logistic Regression but still competitive (0.79).\n",
    "- **AUC-ROC**: Highest AUC-ROC score (0.863), showing the best ability to distinguish between classes.\n"
   ]
  },
  {
   "cell_type": "markdown",
   "id": "d13e18fd",
   "metadata": {},
   "source": [
    "<div style=\"left-align: center; font-size: 15px; color: #003366; font-weight: bold; background-color: #f0f0f0; padding: 10px;\">\n",
    "    Insights\n",
    "</div>\n",
    "\n",
    "- **Logistic Regression** showed minimal improvement after hyperparameter tuning and remains one of the less effective models compared to others in this case.\n",
    "  \n",
    "- **SVC** demonstrated a significant improvement post-tuning but does not outperform Random Forest or Logistic Regression in overall metrics.\n",
    "  \n",
    "- **XGBoost** performed slightly better than Random Forest in accuracy and precision but had a lower AUC-ROC score compared to Random Forest.\n",
    "\n"
   ]
  },
  {
   "cell_type": "markdown",
   "id": "2cb2ae97",
   "metadata": {},
   "source": [
    "<div style=\"left-align: center; font-size: 15px; color: #003366; font-weight: bold; background-color: #f0f0f0; padding: 10px;\">\n",
    "    Recommendations\n",
    "</div>\n",
    "\n",
    "Based on the evaluation metrics, Random Forest is recommended as the best model for this task due to its balance across all metrics and highest AUC-ROC score. It effectively handles both precision and recall, making it a robust choice for this application.\n",
    "\n",
    "In conclusion, while all models have their strengths, the Random Forest model’s overall performance, particularly in distinguishing between classes, makes it the most suitable choice for deployment in this case.\n"
   ]
  },
  {
   "cell_type": "markdown",
   "id": "8537ceaf",
   "metadata": {},
   "source": [
    "---\n",
    "\n",
    "<div style=\"text-align: center;\">\n",
    "    <h3>🧠 Thank you for exploring the Mental Health Prediction Project! 🧠</h3>\n",
    "</div>\n",
    "\n",
    "---\n"
   ]
  }
 ],
 "metadata": {
  "kernelspec": {
   "display_name": "Python 3 (ipykernel)",
   "language": "python",
   "name": "python3"
  },
  "language_info": {
   "codemirror_mode": {
    "name": "ipython",
    "version": 3
   },
   "file_extension": ".py",
   "mimetype": "text/x-python",
   "name": "python",
   "nbconvert_exporter": "python",
   "pygments_lexer": "ipython3",
   "version": "3.9.13"
  }
 },
 "nbformat": 4,
 "nbformat_minor": 5
}
